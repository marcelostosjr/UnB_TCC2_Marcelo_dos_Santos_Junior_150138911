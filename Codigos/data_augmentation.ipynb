{
 "cells": [
  {
   "cell_type": "markdown",
   "id": "b9b2ab0f",
   "metadata": {},
   "source": [
    "# Data Augmentation"
   ]
  },
  {
   "cell_type": "markdown",
   "id": "9a6c533e",
   "metadata": {},
   "source": [
    "### Import"
   ]
  },
  {
   "cell_type": "code",
   "execution_count": 2,
   "id": "ea0eea22",
   "metadata": {},
   "outputs": [],
   "source": [
    "import albumentations as alb\n",
    "import cv2 \n",
    "import os\n",
    "import pandas as pd \n",
    "import numpy as np\n",
    "from matplotlib import pyplot as plt\n",
    "%matplotlib inline"
   ]
  },
  {
   "cell_type": "markdown",
   "id": "37e783b1",
   "metadata": {},
   "source": [
    "### Configurações e constantes"
   ]
  },
  {
   "cell_type": "code",
   "execution_count": 6,
   "id": "131012b8",
   "metadata": {},
   "outputs": [],
   "source": [
    "INPUT_PATH = \"C:\\\\NEW_TCC\\\\dataset\\\\windows_image\\\\negative\\\\nocow_dataset\"\n",
    "ANNOTATION_PATH = os.path.join(INPUT_PATH, \"w_nocow_annotations.csv\")\n",
    "OUTPUT_PATH = \"C:\\\\NEW_TCC\\\\dataset\\\\windows_image\\\\negative\\\\augmantation\"\n",
    "AUG_ANNOTATION_CSV_PATH = os.path.join(OUTPUT_PATH, \"final_aug_annotation.csv\")\n",
    "\n",
    "\n",
    "N = 10"
   ]
  },
  {
   "cell_type": "markdown",
   "id": "99d308b2",
   "metadata": {},
   "source": [
    "### Definição de Função"
   ]
  },
  {
   "cell_type": "code",
   "execution_count": 7,
   "id": "89e3824d",
   "metadata": {},
   "outputs": [],
   "source": [
    "def loadAnnotations(ANNOTATION_PATH):\n",
    "    df = pd.read_csv(ANNOTATION_PATH)\n",
    "    return df\n",
    "\n",
    "#Cria uma Lista com o Nome de todas as imagens no path de entrada \n",
    "def createListNameImageFiles(input_path):\n",
    "\n",
    "    from pathlib import Path\n",
    "    images = Path(input_path).glob(\"*.jpg\")\n",
    "    image_names_list = [str(p) for p in images]\n",
    "\n",
    "    return image_names_list\n",
    "\n",
    "# Esta função retonar apenas o nome da imagem a partir de um path\n",
    "def createNameImage(paths_image):\n",
    "    name_format = paths_image.split(\"\\\\\")[-1]\n",
    "    image_name=name_format.split(\".\")[0] \n",
    "    \n",
    "    return image_name\n",
    "\n",
    "# Salva a imagens aumentada\n",
    "def exportAugmentedImage(augmented_img, OUTPUT_PATH, augmented_img_name):\n",
    "    OUTPUT_PATH = os.path.join(OUTPUT_PATH, augmented_img_name + \".JPG\")\n",
    "    cv2.imwrite(OUTPUT_PATH, cv2.cvtColor(augmented_img, cv2.COLOR_RGB2BGR))\n",
    "    \n",
    "# cria uma lista com os bboxes e a class\n",
    "def createBBoxesList(image_annotation_df):\n",
    "    \n",
    "    qt_object = len(image_annotation_df)\n",
    "    \n",
    "    bboxesDf = image_annotation_df[['xmin', 'ymin', 'xmax', 'ymax', 'class']]\n",
    "    \n",
    "    bboxes_class = []\n",
    "    \n",
    "    bboxes = []\n",
    "    \n",
    "    for i in range(qt_object):\n",
    "        \n",
    "        value_class = [bboxesDf.iloc[i][0],\n",
    "                 bboxesDf.iloc[i][1], \n",
    "                 bboxesDf.iloc[i][2], \n",
    "                 bboxesDf.iloc[i][3], \n",
    "                 bboxesDf.iloc[i][4]]\n",
    "        \n",
    "        value = [bboxesDf.iloc[i][0],\n",
    "                 bboxesDf.iloc[i][1], \n",
    "                 bboxesDf.iloc[i][2], \n",
    "                 bboxesDf.iloc[i][3]]\n",
    "        \n",
    "        bboxes_class.append(value_class)\n",
    "        bboxes.append(value)\n",
    "         \n",
    "    return bboxes_class, bboxes\n",
    "\n",
    "\n",
    "def createAugAnnotationDf(filename, width, height, augmented_bboxes):\n",
    "    \n",
    "    qt_object = len(augmented_bboxes)\n",
    "    \n",
    "    row_list = []\n",
    "    \n",
    "    for i in range(qt_object):\n",
    "        value = [filename,\n",
    "                 width,\n",
    "                 height,\n",
    "                 augmented_bboxes[i][4],\n",
    "                 augmented_bboxes[i][0].astype(int),\n",
    "                 augmented_bboxes[i][1].astype(int),\n",
    "                 augmented_bboxes[i][2].astype(int),\n",
    "                 augmented_bboxes[i][3].astype(int),\n",
    "                 0,\n",
    "                 0]\n",
    "        \n",
    "        row_list.append(value)\n",
    "        \n",
    "    column_name = ['filename', 'width', 'height','class', 'xmin', 'ymin', 'xmax', 'ymax','pc_match','pc_match_flag']\n",
    "    AugAnnotationDf = pd.DataFrame(row_list, columns=column_name)\n",
    "    \n",
    "    return AugAnnotationDf\n",
    "\n",
    "def generateAugmentation(img, bboxes, augmentor, n, OUTPUT_PATH, image_name):\n",
    "    \n",
    "    row_list = []\n",
    "    column_name = ['filename', 'width', 'height','class', 'xmin', 'ymin', 'xmax', 'ymax','pc_match','pc_match_flag']\n",
    "    FullAugAnnotationDf = pd.DataFrame(row_list, columns=column_name)\n",
    "    \n",
    "    for x in range(n):\n",
    "        \n",
    "        \n",
    "        augmented = augmentor(image=img, bboxes=bboxes)\n",
    "        \n",
    "        augmented_image = augmented['image']\n",
    "        augmented_bboxes = augmented['bboxes']\n",
    "     \n",
    "        \n",
    "        \"\"\"\"\"augmented_image_bbox = augmented_image\n",
    "        for obj in augmented_bboxes:\n",
    "            cv2.rectangle(augmented_image_bbox, (int(obj[0]), int(obj[1])), (int(obj[2]), int(obj[3])), (0, 255, 0), 10)\"\"\"\n",
    "            \n",
    "        width = augmented_image.shape[1]\n",
    "        height = augmented_image.shape[0]\n",
    "        \n",
    "        augmented_img_name = image_name + \"_aug_\" + str(x)\n",
    "        \n",
    "        exportAugmentedImage(augmented_image, OUTPUT_PATH, augmented_img_name)\n",
    "        \n",
    "        AugAnnotationDf = createAugAnnotationDf(augmented_img_name, width, height, augmented_bboxes)\n",
    "        \n",
    "        FullAugAnnotationDf = pd.concat([FullAugAnnotationDf, AugAnnotationDf])\n",
    "    \n",
    "    #showImage(augmented_image_bbox)\n",
    "        \n",
    "    \n",
    "    return FullAugAnnotationDf\n",
    "\n",
    "# Esta função recebe uma imagem e realiza a vizualização\n",
    "def showImage(imagem):\n",
    "    print(\"Visualizando a imagem...\")\n",
    "    plt.imshow(cv2.cvtColor(imagem, cv2.COLOR_BGR2RGB))\n",
    "    plt.show()"
   ]
  },
  {
   "cell_type": "markdown",
   "id": "078831f8",
   "metadata": {},
   "source": [
    "## Augmentation"
   ]
  },
  {
   "cell_type": "code",
   "execution_count": 8,
   "id": "65e1dbce",
   "metadata": {},
   "outputs": [
    {
     "name": "stdout",
     "output_type": "stream",
     "text": [
      "Start Augmentation...\n",
      "Saving final_full_aug_annotation_df\n",
      "Processo concluido com sucesso..\n"
     ]
    }
   ],
   "source": [
    "def main():\n",
    "    print(\"Start Augmentation...\")\n",
    "    \n",
    "    #create final_full_aug_annotation_df\n",
    "    row_list = []\n",
    "    column_name = ['filename', 'width', 'height','class', 'xmin', 'ymin', 'xmax', 'ymax','pc_match','pc_match_flag']\n",
    "    final_full_aug_annotation_df = pd.DataFrame(row_list, columns=column_name)\n",
    "    \n",
    "    # load annotations df\n",
    "    full_annotations_df = loadAnnotations(ANNOTATION_PATH)\n",
    "    \n",
    "    # create image names list \n",
    "    image_name_list = createListNameImageFiles(INPUT_PATH)\n",
    "    \n",
    "    # Calculate number of images\n",
    "    qt_images = len(image_name_list)\n",
    "    \n",
    "    # define augmentor\n",
    "    augmentor = alb.Compose([alb.Flip(p=0.7),\n",
    "                             alb.ShiftScaleRotate(p=0.5),\n",
    "                             alb.RandomBrightnessContrast(p=0.2),\n",
    "                             alb.RandomGamma(p=0.2),\n",
    "                             alb.RGBShift(p=0.1)],\n",
    "                        bbox_params=alb.BboxParams(format='pascal_voc'))\n",
    "    \n",
    "    for image_path in image_name_list:\n",
    "        \n",
    "        # load image\n",
    "        img = cv2.cvtColor(cv2.imread(image_path), cv2.COLOR_BGR2RGB)\n",
    "        \n",
    "        # coleta o nome da imagem\n",
    "        image_name = createNameImage(image_path)\n",
    "        \n",
    "        #filtra apenas as annotations referentes a imagem\n",
    "        image_annotation_df = full_annotations_df[full_annotations_df['filename']==image_name]\n",
    "        \n",
    "        # cria bboxes\n",
    "        bboxes_class, bboxes = createBBoxesList(image_annotation_df)\n",
    "        \n",
    "    \n",
    "        \n",
    "        # realiza o augmentation\n",
    "        AugAnnotationDf = generateAugmentation(img, bboxes_class, augmentor, N, OUTPUT_PATH, image_name)\n",
    "        \n",
    "        final_full_aug_annotation_df = pd.concat([final_full_aug_annotation_df, AugAnnotationDf])\n",
    "        \n",
    "    print('Saving final_full_aug_annotation_df')\n",
    "    \n",
    "    # Salva o csv com as Annotations de todas as imagens augmentadas\n",
    "    final_full_aug_annotation_df = final_full_aug_annotation_df.reset_index(drop=True)\n",
    "    final_full_aug_annotation_df.to_csv(AUG_ANNOTATION_CSV_PATH, encoding='utf-8', index=False)\n",
    "    \n",
    "    print('Processo concluido com sucesso..')\n",
    "    \n",
    "    \n",
    "main()"
   ]
  },
  {
   "cell_type": "code",
   "execution_count": null,
   "id": "720a0d3a",
   "metadata": {},
   "outputs": [],
   "source": []
  },
  {
   "cell_type": "code",
   "execution_count": null,
   "id": "a0020bdb",
   "metadata": {},
   "outputs": [],
   "source": []
  },
  {
   "cell_type": "markdown",
   "id": "65c43613",
   "metadata": {},
   "source": [
    "### Criando as annotations para as imagens com vacas brancas ou pretas"
   ]
  },
  {
   "cell_type": "code",
   "execution_count": null,
   "id": "36775e8b",
   "metadata": {},
   "outputs": [],
   "source": [
    "BRANCA_IMAGE_PATH = \"C:\\\\NEW_TCC\\\\dataset\\\\windows_image\\\\positive\\\\augmentation\\\\pretas\"\n",
    "BRANCA_ANNOTATION_PATH = os.path.join(BRANCA_IMAGE_PATH, \"pretas_annotation.csv\")"
   ]
  },
  {
   "cell_type": "code",
   "execution_count": null,
   "id": "63e0718f",
   "metadata": {},
   "outputs": [],
   "source": [
    "ori_annotation_df = loadAnnotations(ANNOTATION_PATH)\n",
    "\n",
    "# create image names list \n",
    "image_name_list = createListNameImageFiles(BRANCA_IMAGE_PATH)\n",
    "\n",
    "\n",
    "#create fina_annotation_df\n",
    "row_list = []\n",
    "column_name = ['filename', 'width', 'height','class', 'xmin', 'ymin', 'xmax', 'ymax','pc_match','pc_match_flag']\n",
    "new_annotation_df = pd.DataFrame(row_list, columns=column_name)\n",
    "\n",
    "\n",
    "for image_path in image_name_list:\n",
    "\n",
    "    # coleta o nome da imagem\n",
    "    image_name = createNameImage(image_path)\n",
    "\n",
    "    #filtra apenas as annotations referentes a imagem\n",
    "    image_annotation_df = ori_annotation_df[ori_annotation_df['filename']==image_name]\n",
    "\n",
    "    new_annotation_df = pd.concat([new_annotation_df, image_annotation_df])\n",
    "\n",
    "# Salva o csv com as Annotations de todas as imagens augmentadas\n",
    "new_annotation_df = new_annotation_df.reset_index(drop=True)\n",
    "new_annotation_df.to_csv(BRANCA_ANNOTATION_PATH, encoding='utf-8', index=False)\n",
    "\n",
    "print('Processo concluido com sucesso..')  \n"
   ]
  },
  {
   "cell_type": "code",
   "execution_count": null,
   "id": "981002b3",
   "metadata": {},
   "outputs": [],
   "source": []
  },
  {
   "cell_type": "code",
   "execution_count": null,
   "id": "e3787904",
   "metadata": {},
   "outputs": [],
   "source": []
  },
  {
   "cell_type": "code",
   "execution_count": null,
   "id": "da5f1c64",
   "metadata": {},
   "outputs": [],
   "source": []
  },
  {
   "cell_type": "code",
   "execution_count": null,
   "id": "3f08c83b",
   "metadata": {},
   "outputs": [],
   "source": []
  },
  {
   "cell_type": "code",
   "execution_count": null,
   "id": "0d0d57f4",
   "metadata": {},
   "outputs": [],
   "source": []
  },
  {
   "cell_type": "markdown",
   "id": "fb2d1ba6",
   "metadata": {},
   "source": [
    "# augmentation para uma imagem"
   ]
  },
  {
   "cell_type": "code",
   "execution_count": null,
   "id": "e4aae87c",
   "metadata": {},
   "outputs": [],
   "source": []
  },
  {
   "cell_type": "code",
   "execution_count": null,
   "id": "5f6d3c44",
   "metadata": {},
   "outputs": [],
   "source": [
    "DIR_DATASET_PATH = \"C:\\\\NEW_TCC\\\\dataset\\\\windows_image\\\\positive\\\\augmentation\\\\brancas\"\n",
    "IMAGE_PATH = os.path.join(DIR_DATASET_PATH, \"cow664_w_28.JPG\")\n",
    "ANNOTATION_PATH = os.path.join(DIR_DATASET_PATH, \"branca_annotation.csv\")\n",
    "OUTPUT_ANNOTATION_PATH = os.path.join(DIR_DATASET_PATH, \"output\", \"aug_annotation.csv\")\n",
    "OUTPUT_PATH = os.path.join(DIR_DATASET_PATH, \"output\")\n",
    "\n",
    "N = 10"
   ]
  },
  {
   "cell_type": "code",
   "execution_count": null,
   "id": "95778c64",
   "metadata": {},
   "outputs": [],
   "source": [
    "ori_annotation_df = loadAnnotations(ANNOTATION_PATH)\n",
    "image_path = IMAGE_PATH\n",
    "\n",
    "#create fina_annotation_df\n",
    "row_list = []\n",
    "column_name = ['filename', 'width', 'height','class', 'xmin', 'ymin', 'xmax', 'ymax','pc_match','pc_match_flag']\n",
    "new_annotation_df = pd.DataFrame(row_list, columns=column_name)\n",
    "\n",
    "\n",
    "# define augmentor\n",
    "augmentor = alb.Compose([alb.ChannelShuffle(p=1)],\n",
    "                    bbox_params=alb.BboxParams(format='pascal_voc'))\n",
    "    \n",
    "    \n",
    "\n",
    "    \n",
    "# load image\n",
    "img = cv2.cvtColor(cv2.imread(image_path), cv2.COLOR_BGR2RGB)\n",
    "\n",
    "# coleta o nome da imagem\n",
    "image_name = createNameImage(image_path)\n",
    "\n",
    "#filtra apenas as annotations referentes a imagem\n",
    "image_annotation_df = ori_annotation_df[ori_annotation_df['filename']==image_name]\n",
    "\n",
    "# cria bboxes\n",
    "bboxes_class, bboxes = createBBoxesList(image_annotation_df)\n",
    "\n",
    "print(bboxes_class)\n",
    "\n",
    "imagem_orig = img\n",
    "\n",
    "#for obj in bboxes_class:\n",
    "    #cv2.rectangle(imagem_orig, (obj[0], obj[1]), (obj[2], obj[3]), (0, 255, 0), 10)\n",
    "\n",
    "showImage(imagem_orig)\n",
    "\n",
    "# realiza o augmentation\n",
    "AugAnnotationDf = generateAugmentation(img, bboxes_class, augmentor, N, OUTPUT_PATH, image_name)\n",
    "\n",
    "\n",
    "\n",
    "new_annotation_df = pd.concat([new_annotation_df, AugAnnotationDf])\n",
    "\n",
    "print('Saving final_full_aug_annotation_df')\n",
    "\n",
    "# Salva o csv com as Annotations de todas as imagens augmentadas\n",
    "new_annotation_df = new_annotation_df.reset_index(drop=True)\n",
    "new_annotation_df.to_csv(OUTPUT_ANNOTATION_PATH, encoding='utf-8', index=False)"
   ]
  },
  {
   "cell_type": "code",
   "execution_count": null,
   "id": "6ef9795e",
   "metadata": {},
   "outputs": [],
   "source": [
    "bboxes_class[0][0]"
   ]
  },
  {
   "cell_type": "code",
   "execution_count": null,
   "id": "7ee4af69",
   "metadata": {},
   "outputs": [],
   "source": []
  },
  {
   "cell_type": "code",
   "execution_count": null,
   "id": "add821cb",
   "metadata": {},
   "outputs": [],
   "source": []
  },
  {
   "cell_type": "code",
   "execution_count": null,
   "id": "6fe9bb81",
   "metadata": {},
   "outputs": [],
   "source": []
  },
  {
   "cell_type": "code",
   "execution_count": null,
   "id": "c18d8dfb",
   "metadata": {},
   "outputs": [],
   "source": []
  },
  {
   "cell_type": "code",
   "execution_count": null,
   "id": "8f6dc167",
   "metadata": {},
   "outputs": [],
   "source": []
  },
  {
   "cell_type": "code",
   "execution_count": null,
   "id": "453a34a5",
   "metadata": {},
   "outputs": [],
   "source": []
  },
  {
   "cell_type": "code",
   "execution_count": null,
   "id": "44c16cb9",
   "metadata": {},
   "outputs": [],
   "source": []
  },
  {
   "cell_type": "code",
   "execution_count": null,
   "id": "20ca5fc7",
   "metadata": {},
   "outputs": [],
   "source": []
  },
  {
   "cell_type": "code",
   "execution_count": null,
   "id": "ddc49276",
   "metadata": {},
   "outputs": [],
   "source": [
    "IMAGE_PATH = \"C:\\\\NEW_TCC\\\\dataset\\\\windows_image\\\\positive\\\\augmentation\\\\brancas\\\\cow664_w_28.JPG\""
   ]
  },
  {
   "cell_type": "code",
   "execution_count": null,
   "id": "0d3ee746",
   "metadata": {},
   "outputs": [],
   "source": [
    "image = cv2.imread(IMAGE_PATH)\n",
    "image = cv2.cvtColor(image, cv2.COLOR_BGR2RGB)"
   ]
  },
  {
   "cell_type": "code",
   "execution_count": null,
   "id": "4adb7121",
   "metadata": {},
   "outputs": [],
   "source": [
    "transform = alb.Compose(\n",
    "    [alb.HorizontalFlip(p=0.5)],\n",
    "    bbox_params=alb.BboxParams(format='pascal_voc'),\n",
    ")"
   ]
  },
  {
   "cell_type": "code",
   "execution_count": null,
   "id": "0caccf21",
   "metadata": {},
   "outputs": [],
   "source": [
    "random.seed(7)\n",
    "transformed = transform(image=image, bboxes=bboxes, category_ids=category_ids)\n",
    "visualize(\n",
    "    transformed['image'],\n",
    "    transformed['bboxes'],\n",
    "    transformed['category_ids'],\n",
    "    category_id_to_name,\n",
    ")"
   ]
  }
 ],
 "metadata": {
  "kernelspec": {
   "display_name": "new_tcc_env",
   "language": "python",
   "name": "new_tcc_env"
  },
  "language_info": {
   "codemirror_mode": {
    "name": "ipython",
    "version": 3
   },
   "file_extension": ".py",
   "mimetype": "text/x-python",
   "name": "python",
   "nbconvert_exporter": "python",
   "pygments_lexer": "ipython3",
   "version": "3.8.8"
  }
 },
 "nbformat": 4,
 "nbformat_minor": 5
}
